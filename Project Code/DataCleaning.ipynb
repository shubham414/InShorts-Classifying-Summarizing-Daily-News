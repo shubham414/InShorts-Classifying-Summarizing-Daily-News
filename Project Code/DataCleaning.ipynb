{
 "cells": [
  {
   "cell_type": "code",
   "execution_count": 1,
   "metadata": {},
   "outputs": [],
   "source": [
    "import pandas as pd"
   ]
  },
  {
   "cell_type": "code",
   "execution_count": 8,
   "metadata": {},
   "outputs": [
    {
     "name": "stdout",
     "output_type": "stream",
     "text": [
      "                                               title               author  \\\n",
      "0  Bitcoin is down 60 percent this year. Here's w...       Timothy B. Lee   \n",
      "1  6 health problems marijuana could treat better...         German Lopez   \n",
      "2  9 charts that explain the history of global we...     Matthew Yglesias   \n",
      "3  Remember when legal marijuana was going to sen...         German Lopez   \n",
      "4  Obamacare succeeded for one simple reason: it'...          Sarah Kliff   \n",
      "5  The best Obamacare data comes from a home offi...          Sarah Kliff   \n",
      "6  The Republicansâ€™ plan to cut Medicaid, expla...          Sarah Kliff   \n",
      "7  Obama is deporting more immigrants than any pr...            Dara Lind   \n",
      "8        9 things you didn't know about income taxes  Danielle Kurtzleben   \n",
      "9  Why are scientists trying to map every single ...       Susannah Locke   \n",
      "\n",
      "             category       published_date           updated_on  \\\n",
      "0  Business & Finance  2014-03-31 14:01:30  2014-12-16 16:37:36   \n",
      "1        War on Drugs  2014-03-31 15:44:21  2014-11-17 00:20:33   \n",
      "2  Business & Finance  2014-04-10 13:30:01  2014-12-16 15:47:02   \n",
      "3    Criminal Justice  2014-04-03 23:25:55  2014-05-06 21:58:42   \n",
      "4         Health Care  2014-04-01 20:26:14  2014-11-18 15:09:14   \n",
      "5         Health Care  2014-04-04 14:00:01  2014-04-07 17:46:29   \n",
      "6         Health Care  2014-04-06 01:52:09  2015-03-16 17:53:01   \n",
      "7          Explainers  2014-04-09 11:00:02  2015-07-29 20:53:57   \n",
      "8                Life  2014-04-03 13:24:30  2015-04-13 14:29:52   \n",
      "9    Science & Health  2014-04-03 16:20:50  2014-12-22 15:18:12   \n",
      "\n",
      "                                                slug  \\\n",
      "0  http://www.vox.com/2014/3/31/5557170/bitcoin-b...   \n",
      "1  http://www.vox.com/2014/3/31/5557700/six-probl...   \n",
      "2  http://www.vox.com/2014/4/10/5561608/9-charts-...   \n",
      "3  http://www.vox.com/2014/4/3/5563134/marijuana-...   \n",
      "4  http://www.vox.com/2014/4/1/5570780/the-two-re...   \n",
      "5  http://www.vox.com/2014/4/4/5572310/the-invalu...   \n",
      "6  http://www.vox.com/2014/4/5/5574270/republican...   \n",
      "7  http://www.vox.com/2014/4/9/5575006/2-million-...   \n",
      "8  http://www.vox.com/2014/4/3/5575936/9-things-y...   \n",
      "9  http://www.vox.com/2014/4/3/5576486/why-are-sc...   \n",
      "\n",
      "                                               blurb  \\\n",
      "0  Bitcoins have lost more than 60 percent of the...   \n",
      "1  Medical marijuana could fill gaps that current...   \n",
      "2  These nine charts from Thomas Piketty's new bo...   \n",
      "3  Three months after legalizing marijuana, Denve...   \n",
      "4  After a catastrophic launch, Obamacare still s...   \n",
      "5  How'd Charles Gaba become the go-to Obamacare ...   \n",
      "6  There's much in health-care policy that divide...   \n",
      "7  Obama's deporting more immigrants than any pre...   \n",
      "8  You're going to have to pay taxes on your bart...   \n",
      "9  There are 85 billion neurons in the human brai...   \n",
      "\n",
      "                                                body  \n",
      "0  <p>The markets haven't been kind to<span> </sp...  \n",
      "1  <p>Twenty states have so far legalized the med...  \n",
      "2  <p>Thomas Piketty's book <i>Capital in the 21s...  \n",
      "3  <p><span>When Colorado legalized recreational ...  \n",
      "4  <p>There's a very simple reason that Obamacare...  \n",
      "5  <p>For the past six months, the best Obamacare...  \n",
      "6  <p>There's much in health-care policy that div...  \n",
      "7  <p><span>President Obama is going to leave the...  \n",
      "8  <p>By <a href=\"http://www.nytimes.com/2013/01/...  \n",
      "9  <p>Researchers around the world are engaged in...  \n",
      "(23024, 8)\n"
     ]
    }
   ],
   "source": [
    "# Reading the dataset\n",
    "dataset = pd.read_csv('dsjVoxArticles.tsv', delimiter = '\\t', encoding = 'utf-8')\n",
    "\n",
    "print(dataset.head(10))\n",
    "print(dataset.shape)"
   ]
  },
  {
   "cell_type": "code",
   "execution_count": 15,
   "metadata": {},
   "outputs": [
    {
     "name": "stdout",
     "output_type": "stream",
     "text": [
      "(23012, 8)\n",
      "Body row count:  23012\n",
      "Title row count:  23012\n",
      "Category row count:  23012\n",
      "Blurb row count:  23012\n",
      "Author row count:  23012\n"
     ]
    }
   ],
   "source": [
    "# Removing NaN values\n",
    "\n",
    "ds_cleaned = dataset.dropna(subset = ['title', 'category','blurb','body','author'])\n",
    "print(ds_cleaned.shape)\n",
    "\n",
    "# Resetting the index\n",
    "ds_cleaned.reset_index(drop = True, inplace = True)\n",
    "\n",
    "body = ds_cleaned['body']\n",
    "title = ds_cleaned['title']\n",
    "category = ds_cleaned['category']\n",
    "blurb = ds_cleaned['blurb']\n",
    "author = ds_cleaned['author']\n",
    "\n",
    "print(\"Body row count: \", len(body))\n",
    "print(\"Title row count: \", len(title))\n",
    "print(\"Category row count: \", len(category))\n",
    "print(\"Blurb row count: \", len(blurb))\n",
    "print(\"Author row count: \", len(author))"
   ]
  },
  {
   "cell_type": "code",
   "execution_count": 18,
   "metadata": {},
   "outputs": [],
   "source": [
    "# Removing non ascii characters\n",
    "from bs4 import BeautifulSoup\n",
    "\n",
    "# Defining a function\n",
    "def non_ascii_removal(string):\n",
    "    return ''.join([i if ord(i) < 128 else ' ' for i in string])"
   ]
  },
  {
   "cell_type": "code",
   "execution_count": 24,
   "metadata": {},
   "outputs": [
    {
     "name": "stdout",
     "output_type": "stream",
     "text": [
      "done\n"
     ]
    }
   ],
   "source": [
    "ds_body=[]\n",
    "ds_title=[]\n",
    "ds_blurb=[]\n",
    "ds_category=[]\n",
    "ds_author=[]\n",
    "\n",
    "for i in range(0,len(body)):\n",
    "    if isinstance(body[i],str):\n",
    "        soup = BeautifulSoup(body[i])\n",
    "        text = soup.get_text()\n",
    "        cleanedText = text.replace(r'\\n',\"\")\n",
    "        data = non_ascii_removal(cleanedText)\n",
    "        ds_body.append(data)\n",
    "       \n",
    "        cleanedTitle=non_ascii_removal(title[i])\n",
    "        ds_title.append(cleanedTitle)\n",
    "        \n",
    "        cleaned_blurb=non_ascii_removal(blurb[i])\n",
    "        ds_blurb.append(cleaned_blurb)\n",
    "        \n",
    "        cleaned_category=non_ascii_removal(category[i])  \n",
    "        ds_category.append(cleaned_category)\n",
    "        \n",
    "        cleaned_author=non_ascii_removal(author[i])  \n",
    "        ds_author.append(cleaned_author)\n",
    "    else:\n",
    "        print(i,':',)\n",
    "        print(i,':',body[i])\n",
    "        ds_body.append('')\n",
    "\n",
    "print('done')"
   ]
  },
  {
   "cell_type": "code",
   "execution_count": 26,
   "metadata": {},
   "outputs": [
    {
     "name": "stdout",
     "output_type": "stream",
     "text": [
      "Body row count:  23012\n",
      "Title row count:  23012\n",
      "Category row count:  23012\n",
      "Blurb row count:  23012\n",
      "Author row count:  23012\n"
     ]
    }
   ],
   "source": [
    "print(\"Body row count: \", len(ds_body))\n",
    "print(\"Title row count: \", len(ds_title))\n",
    "print(\"Category row count: \", len(ds_category))\n",
    "print(\"Blurb row count: \", len(ds_blurb))\n",
    "print(\"Author row count: \", len(ds_author))"
   ]
  },
  {
   "cell_type": "code",
   "execution_count": 31,
   "metadata": {},
   "outputs": [
    {
     "data": {
      "text/html": [
       "<div>\n",
       "<style scoped>\n",
       "    .dataframe tbody tr th:only-of-type {\n",
       "        vertical-align: middle;\n",
       "    }\n",
       "\n",
       "    .dataframe tbody tr th {\n",
       "        vertical-align: top;\n",
       "    }\n",
       "\n",
       "    .dataframe thead th {\n",
       "        text-align: right;\n",
       "    }\n",
       "</style>\n",
       "<table border=\"1\" class=\"dataframe\">\n",
       "  <thead>\n",
       "    <tr style=\"text-align: right;\">\n",
       "      <th></th>\n",
       "      <th>title</th>\n",
       "      <th>author</th>\n",
       "      <th>category</th>\n",
       "      <th>published_date</th>\n",
       "      <th>updated_on</th>\n",
       "      <th>slug</th>\n",
       "      <th>blurb</th>\n",
       "      <th>body</th>\n",
       "    </tr>\n",
       "  </thead>\n",
       "  <tbody>\n",
       "    <tr>\n",
       "      <td>0</td>\n",
       "      <td>Bitcoin is down 60 percent this year. Here's w...</td>\n",
       "      <td>Timothy B. Lee</td>\n",
       "      <td>Business &amp; Finance</td>\n",
       "      <td>2014-03-31 14:01:30</td>\n",
       "      <td>2014-12-16 16:37:36</td>\n",
       "      <td>http://www.vox.com/2014/3/31/5557170/bitcoin-b...</td>\n",
       "      <td>Bitcoins have lost more than 60 percent of the...</td>\n",
       "      <td>The markets haven't been kind to Bitcoin in 20...</td>\n",
       "    </tr>\n",
       "    <tr>\n",
       "      <td>1</td>\n",
       "      <td>6 health problems marijuana could treat better...</td>\n",
       "      <td>German Lopez</td>\n",
       "      <td>War on Drugs</td>\n",
       "      <td>2014-03-31 15:44:21</td>\n",
       "      <td>2014-11-17 00:20:33</td>\n",
       "      <td>http://www.vox.com/2014/3/31/5557700/six-probl...</td>\n",
       "      <td>Medical marijuana could fill gaps that current...</td>\n",
       "      <td>Twenty states have so far legalized the medica...</td>\n",
       "    </tr>\n",
       "    <tr>\n",
       "      <td>2</td>\n",
       "      <td>9 charts that explain the history of global we...</td>\n",
       "      <td>Matthew Yglesias</td>\n",
       "      <td>Business &amp; Finance</td>\n",
       "      <td>2014-04-10 13:30:01</td>\n",
       "      <td>2014-12-16 15:47:02</td>\n",
       "      <td>http://www.vox.com/2014/4/10/5561608/9-charts-...</td>\n",
       "      <td>These nine charts from Thomas Piketty's new bo...</td>\n",
       "      <td>Thomas Piketty's book Capital in the 21st Cent...</td>\n",
       "    </tr>\n",
       "    <tr>\n",
       "      <td>3</td>\n",
       "      <td>Remember when legal marijuana was going to sen...</td>\n",
       "      <td>German Lopez</td>\n",
       "      <td>Criminal Justice</td>\n",
       "      <td>2014-04-03 23:25:55</td>\n",
       "      <td>2014-05-06 21:58:42</td>\n",
       "      <td>http://www.vox.com/2014/4/3/5563134/marijuana-...</td>\n",
       "      <td>Three months after legalizing marijuana, Denve...</td>\n",
       "      <td>When Colorado legalized recreational marijuana...</td>\n",
       "    </tr>\n",
       "    <tr>\n",
       "      <td>4</td>\n",
       "      <td>Obamacare succeeded for one simple reason: it'...</td>\n",
       "      <td>Sarah Kliff</td>\n",
       "      <td>Health Care</td>\n",
       "      <td>2014-04-01 20:26:14</td>\n",
       "      <td>2014-11-18 15:09:14</td>\n",
       "      <td>http://www.vox.com/2014/4/1/5570780/the-two-re...</td>\n",
       "      <td>After a catastrophic launch, Obamacare still s...</td>\n",
       "      <td>There's a very simple reason that Obamacare hi...</td>\n",
       "    </tr>\n",
       "  </tbody>\n",
       "</table>\n",
       "</div>"
      ],
      "text/plain": [
       "                                               title            author  \\\n",
       "0  Bitcoin is down 60 percent this year. Here's w...    Timothy B. Lee   \n",
       "1  6 health problems marijuana could treat better...      German Lopez   \n",
       "2  9 charts that explain the history of global we...  Matthew Yglesias   \n",
       "3  Remember when legal marijuana was going to sen...      German Lopez   \n",
       "4  Obamacare succeeded for one simple reason: it'...       Sarah Kliff   \n",
       "\n",
       "             category       published_date           updated_on  \\\n",
       "0  Business & Finance  2014-03-31 14:01:30  2014-12-16 16:37:36   \n",
       "1        War on Drugs  2014-03-31 15:44:21  2014-11-17 00:20:33   \n",
       "2  Business & Finance  2014-04-10 13:30:01  2014-12-16 15:47:02   \n",
       "3    Criminal Justice  2014-04-03 23:25:55  2014-05-06 21:58:42   \n",
       "4         Health Care  2014-04-01 20:26:14  2014-11-18 15:09:14   \n",
       "\n",
       "                                                slug  \\\n",
       "0  http://www.vox.com/2014/3/31/5557170/bitcoin-b...   \n",
       "1  http://www.vox.com/2014/3/31/5557700/six-probl...   \n",
       "2  http://www.vox.com/2014/4/10/5561608/9-charts-...   \n",
       "3  http://www.vox.com/2014/4/3/5563134/marijuana-...   \n",
       "4  http://www.vox.com/2014/4/1/5570780/the-two-re...   \n",
       "\n",
       "                                               blurb  \\\n",
       "0  Bitcoins have lost more than 60 percent of the...   \n",
       "1  Medical marijuana could fill gaps that current...   \n",
       "2  These nine charts from Thomas Piketty's new bo...   \n",
       "3  Three months after legalizing marijuana, Denve...   \n",
       "4  After a catastrophic launch, Obamacare still s...   \n",
       "\n",
       "                                                body  \n",
       "0  The markets haven't been kind to Bitcoin in 20...  \n",
       "1  Twenty states have so far legalized the medica...  \n",
       "2  Thomas Piketty's book Capital in the 21st Cent...  \n",
       "3  When Colorado legalized recreational marijuana...  \n",
       "4  There's a very simple reason that Obamacare hi...  "
      ]
     },
     "execution_count": 31,
     "metadata": {},
     "output_type": "execute_result"
    }
   ],
   "source": [
    "# Generating cleaned dataset csv\n",
    "\n",
    "ds_cleaned.loc[:, ('body')] = ds_body\n",
    "ds_cleaned.loc[:, ('title')] = ds_title\n",
    "ds_cleaned.loc[:, ('blurb')] = ds_blurb\n",
    "ds_cleaned.loc[:, ('category')] = ds_category\n",
    "ds_cleaned.loc[:, ('author')] = ds_author\n",
    "ds_cleaned.head()"
   ]
  },
  {
   "cell_type": "code",
   "execution_count": 35,
   "metadata": {},
   "outputs": [],
   "source": [
    "# Generating the cleaned dataset file\n",
    "\n",
    "ds_cleaned.to_csv('Cleaned_Dataset.tsv', sep = '\\t', index = False)"
   ]
  },
  {
   "cell_type": "code",
   "execution_count": 33,
   "metadata": {},
   "outputs": [
    {
     "name": "stdout",
     "output_type": "stream",
     "text": [
      "(23012, 8)\n"
     ]
    }
   ],
   "source": [
    "# Determining the file size (Rows and columns)\n",
    "\n",
    "print(ds_cleaned.shape)"
   ]
  },
  {
   "cell_type": "code",
   "execution_count": null,
   "metadata": {},
   "outputs": [],
   "source": []
  }
 ],
 "metadata": {
  "kernelspec": {
   "display_name": "Python 3",
   "language": "python",
   "name": "python3"
  },
  "language_info": {
   "codemirror_mode": {
    "name": "ipython",
    "version": 3
   },
   "file_extension": ".py",
   "mimetype": "text/x-python",
   "name": "python",
   "nbconvert_exporter": "python",
   "pygments_lexer": "ipython3",
   "version": "3.7.4"
  }
 },
 "nbformat": 4,
 "nbformat_minor": 2
}
