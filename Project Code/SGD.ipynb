{
 "cells": [
  {
   "cell_type": "markdown",
   "metadata": {},
   "source": [
    "## Import Statements"
   ]
  },
  {
   "cell_type": "code",
   "execution_count": 29,
   "metadata": {},
   "outputs": [],
   "source": [
    "import numpy as np\n",
    "import pandas as pd\n",
    "\n",
    "from sklearn.linear_model import SGDClassifier\n",
    "from sklearn.model_selection import train_test_split, GridSearchCV\n",
    "from sklearn.feature_extraction.text import CountVectorizer"
   ]
  },
  {
   "cell_type": "code",
   "execution_count": 7,
   "metadata": {},
   "outputs": [],
   "source": [
    "news = pd.read_csv(\"ProcessedData.tsv\", delimiter = '\\t', encoding = 'utf-8')"
   ]
  },
  {
   "cell_type": "code",
   "execution_count": 8,
   "metadata": {},
   "outputs": [
    {
     "data": {
      "text/html": [
       "<div>\n",
       "<style scoped>\n",
       "    .dataframe tbody tr th:only-of-type {\n",
       "        vertical-align: middle;\n",
       "    }\n",
       "\n",
       "    .dataframe tbody tr th {\n",
       "        vertical-align: top;\n",
       "    }\n",
       "\n",
       "    .dataframe thead th {\n",
       "        text-align: right;\n",
       "    }\n",
       "</style>\n",
       "<table border=\"1\" class=\"dataframe\">\n",
       "  <thead>\n",
       "    <tr style=\"text-align: right;\">\n",
       "      <th></th>\n",
       "      <th>NewCategory</th>\n",
       "      <th>title</th>\n",
       "      <th>author</th>\n",
       "      <th>published_date</th>\n",
       "      <th>updated_on</th>\n",
       "      <th>slug</th>\n",
       "      <th>blurb</th>\n",
       "      <th>body</th>\n",
       "    </tr>\n",
       "  </thead>\n",
       "  <tbody>\n",
       "    <tr>\n",
       "      <td>0</td>\n",
       "      <td>Business &amp; Finance</td>\n",
       "      <td>Bitcoin is down 60 percent this year. Here's w...</td>\n",
       "      <td>Timothy B. Lee</td>\n",
       "      <td>3/31/2014 14:01</td>\n",
       "      <td>12/16/2014 16:37</td>\n",
       "      <td>http://www.vox.com/2014/3/31/5557170/bitcoin-b...</td>\n",
       "      <td>Bitcoins have lost more than 60 percent of the...</td>\n",
       "      <td>The markets haven't been kind to Bitcoin in 20...</td>\n",
       "    </tr>\n",
       "    <tr>\n",
       "      <td>1</td>\n",
       "      <td>Crime</td>\n",
       "      <td>6 health problems marijuana could treat better...</td>\n",
       "      <td>German Lopez</td>\n",
       "      <td>3/31/2014 15:44</td>\n",
       "      <td>11/17/2014 0:20</td>\n",
       "      <td>http://www.vox.com/2014/3/31/5557700/six-probl...</td>\n",
       "      <td>Medical marijuana could fill gaps that current...</td>\n",
       "      <td>Twenty states have so far legalized the medica...</td>\n",
       "    </tr>\n",
       "    <tr>\n",
       "      <td>2</td>\n",
       "      <td>Business &amp; Finance</td>\n",
       "      <td>9 charts that explain the history of global we...</td>\n",
       "      <td>Matthew Yglesias</td>\n",
       "      <td>4/10/2014 13:30</td>\n",
       "      <td>12/16/2014 15:47</td>\n",
       "      <td>http://www.vox.com/2014/4/10/5561608/9-charts-...</td>\n",
       "      <td>These nine charts from Thomas Piketty's new bo...</td>\n",
       "      <td>Thomas Piketty's book Capital in the 21st Cent...</td>\n",
       "    </tr>\n",
       "    <tr>\n",
       "      <td>3</td>\n",
       "      <td>Crime</td>\n",
       "      <td>Remember when legal marijuana was going to sen...</td>\n",
       "      <td>German Lopez</td>\n",
       "      <td>4/3/2014 23:25</td>\n",
       "      <td>5/6/2014 21:58</td>\n",
       "      <td>http://www.vox.com/2014/4/3/5563134/marijuana-...</td>\n",
       "      <td>Three months after legalizing marijuana, Denve...</td>\n",
       "      <td>When Colorado legalized recreational marijuana...</td>\n",
       "    </tr>\n",
       "    <tr>\n",
       "      <td>4</td>\n",
       "      <td>Technology &amp; Health</td>\n",
       "      <td>Obamacare succeeded for one simple reason: it'...</td>\n",
       "      <td>Sarah Kliff</td>\n",
       "      <td>4/1/2014 20:26</td>\n",
       "      <td>11/18/2014 15:09</td>\n",
       "      <td>http://www.vox.com/2014/4/1/5570780/the-two-re...</td>\n",
       "      <td>After a catastrophic launch, Obamacare still s...</td>\n",
       "      <td>There's a very simple reason that Obamacare hi...</td>\n",
       "    </tr>\n",
       "  </tbody>\n",
       "</table>\n",
       "</div>"
      ],
      "text/plain": [
       "           NewCategory                                              title  \\\n",
       "0   Business & Finance  Bitcoin is down 60 percent this year. Here's w...   \n",
       "1                Crime  6 health problems marijuana could treat better...   \n",
       "2   Business & Finance  9 charts that explain the history of global we...   \n",
       "3                Crime  Remember when legal marijuana was going to sen...   \n",
       "4  Technology & Health  Obamacare succeeded for one simple reason: it'...   \n",
       "\n",
       "             author   published_date        updated_on  \\\n",
       "0    Timothy B. Lee  3/31/2014 14:01  12/16/2014 16:37   \n",
       "1      German Lopez  3/31/2014 15:44   11/17/2014 0:20   \n",
       "2  Matthew Yglesias  4/10/2014 13:30  12/16/2014 15:47   \n",
       "3      German Lopez   4/3/2014 23:25    5/6/2014 21:58   \n",
       "4       Sarah Kliff   4/1/2014 20:26  11/18/2014 15:09   \n",
       "\n",
       "                                                slug  \\\n",
       "0  http://www.vox.com/2014/3/31/5557170/bitcoin-b...   \n",
       "1  http://www.vox.com/2014/3/31/5557700/six-probl...   \n",
       "2  http://www.vox.com/2014/4/10/5561608/9-charts-...   \n",
       "3  http://www.vox.com/2014/4/3/5563134/marijuana-...   \n",
       "4  http://www.vox.com/2014/4/1/5570780/the-two-re...   \n",
       "\n",
       "                                               blurb  \\\n",
       "0  Bitcoins have lost more than 60 percent of the...   \n",
       "1  Medical marijuana could fill gaps that current...   \n",
       "2  These nine charts from Thomas Piketty's new bo...   \n",
       "3  Three months after legalizing marijuana, Denve...   \n",
       "4  After a catastrophic launch, Obamacare still s...   \n",
       "\n",
       "                                                body  \n",
       "0  The markets haven't been kind to Bitcoin in 20...  \n",
       "1  Twenty states have so far legalized the medica...  \n",
       "2  Thomas Piketty's book Capital in the 21st Cent...  \n",
       "3  When Colorado legalized recreational marijuana...  \n",
       "4  There's a very simple reason that Obamacare hi...  "
      ]
     },
     "execution_count": 8,
     "metadata": {},
     "output_type": "execute_result"
    }
   ],
   "source": [
    "news.head()"
   ]
  },
  {
   "cell_type": "code",
   "execution_count": 9,
   "metadata": {},
   "outputs": [
    {
     "data": {
      "text/plain": [
       "array(['Business & Finance', 'Crime', 'Technology & Health', 'Politics',\n",
       "       'Entertainment'], dtype=object)"
      ]
     },
     "execution_count": 9,
     "metadata": {},
     "output_type": "execute_result"
    }
   ],
   "source": [
    "news['NewCategory'].unique() # unique category labels"
   ]
  },
  {
   "cell_type": "code",
   "execution_count": 10,
   "metadata": {},
   "outputs": [],
   "source": [
    "news['title'] = news['title'].str.replace('[^\\w\\s]','').str.lower() # unpunctuate and lower case\n",
    "news['NewCategory'] = news['NewCategory'].str.replace('[^\\w\\s]','').str.lower() # unpunctuate and lower case"
   ]
  },
  {
   "cell_type": "markdown",
   "metadata": {},
   "source": [
    "## Vectorization"
   ]
  },
  {
   "cell_type": "code",
   "execution_count": 11,
   "metadata": {},
   "outputs": [],
   "source": [
    "# convert data to vectors\n",
    "vectorizer = CountVectorizer(stop_words='english')\n",
    "X = vectorizer.fit_transform(news['title'])\n",
    "\n",
    "y = news['NewCategory']"
   ]
  },
  {
   "cell_type": "markdown",
   "metadata": {},
   "source": [
    "## Splitting the Data into Training and Testing"
   ]
  },
  {
   "cell_type": "code",
   "execution_count": 12,
   "metadata": {},
   "outputs": [],
   "source": [
    "X_train, X_test, y_train, y_test = train_test_split(X, y, test_size=0.3) # 30% split"
   ]
  },
  {
   "cell_type": "markdown",
   "metadata": {},
   "source": [
    "## Training SGD Classifier"
   ]
  },
  {
   "cell_type": "code",
   "execution_count": 13,
   "metadata": {},
   "outputs": [
    {
     "name": "stderr",
     "output_type": "stream",
     "text": [
      "/Users/shubh/opt/anaconda3/lib/python3.7/site-packages/sklearn/linear_model/stochastic_gradient.py:561: ConvergenceWarning: Maximum number of iteration reached before convergence. Consider increasing max_iter to improve the fit.\n",
      "  ConvergenceWarning)\n"
     ]
    },
    {
     "data": {
      "text/plain": [
       "GridSearchCV(cv=10, error_score='raise-deprecating',\n",
       "             estimator=SGDClassifier(alpha=0.0001, average=False,\n",
       "                                     class_weight=None, early_stopping=False,\n",
       "                                     epsilon=0.1, eta0=0.0, fit_intercept=True,\n",
       "                                     l1_ratio=0.15, learning_rate='optimal',\n",
       "                                     loss='hinge', max_iter=1000,\n",
       "                                     n_iter_no_change=5, n_jobs=-1,\n",
       "                                     penalty='l2', power_t=0.5,\n",
       "                                     random_state=1234, shuffle=True, tol=0.001,\n",
       "                                     validation_fraction=0.1, verbose=0,\n",
       "                                     warm_start=False),\n",
       "             iid='warn', n_jobs=None,\n",
       "             param_grid=[{'alpha': [0.0001, 0.0001, 1e-05],\n",
       "                          'loss': ['hinge', 'log', 'squared_hinge']}],\n",
       "             pre_dispatch='2*n_jobs', refit=True, return_train_score=False,\n",
       "             scoring=None, verbose=0)"
      ]
     },
     "execution_count": 13,
     "metadata": {},
     "output_type": "execute_result"
    }
   ],
   "source": [
    "sgd = SGDClassifier(n_jobs=-1, penalty='l2', max_iter= 1000, random_state=1234)\n",
    "\n",
    "# hyperparameters for tuning\n",
    "sgd_grid = [{'loss': ['hinge', 'log', 'squared_hinge'],\n",
    "             'alpha': [0.0001, 0.0001, 0.00001]}]\n",
    "\n",
    "# grid search with cross validation\n",
    "sgd_search = GridSearchCV(estimator=sgd, param_grid=sgd_grid, cv=10, refit=True)\n",
    "sgd_search.fit(X_train, y_train)"
   ]
  },
  {
   "cell_type": "code",
   "execution_count": 14,
   "metadata": {},
   "outputs": [],
   "source": [
    "y_pred = sgd_search.predict(X_test)\n"
   ]
  },
  {
   "cell_type": "code",
   "execution_count": 17,
   "metadata": {},
   "outputs": [
    {
     "data": {
      "text/plain": [
       "0.7560627674750356"
      ]
     },
     "execution_count": 17,
     "metadata": {},
     "output_type": "execute_result"
    }
   ],
   "source": [
    "sgd_search.best_estimator_.score(X_test, y_test)"
   ]
  },
  {
   "cell_type": "markdown",
   "metadata": {},
   "source": [
    "## Hyperparameter Tuning"
   ]
  },
  {
   "cell_type": "code",
   "execution_count": 18,
   "metadata": {},
   "outputs": [
    {
     "name": "stderr",
     "output_type": "stream",
     "text": [
      "/Users/shubh/opt/anaconda3/lib/python3.7/site-packages/sklearn/linear_model/stochastic_gradient.py:561: ConvergenceWarning: Maximum number of iteration reached before convergence. Consider increasing max_iter to improve the fit.\n",
      "  ConvergenceWarning)\n"
     ]
    },
    {
     "data": {
      "text/plain": [
       "GridSearchCV(cv=50, error_score='raise-deprecating',\n",
       "             estimator=SGDClassifier(alpha=0.0001, average=False,\n",
       "                                     class_weight=None, early_stopping=False,\n",
       "                                     epsilon=0.1, eta0=0.0, fit_intercept=True,\n",
       "                                     l1_ratio=0.15, learning_rate='optimal',\n",
       "                                     loss='hinge', max_iter=1000,\n",
       "                                     n_iter_no_change=5, n_jobs=-1,\n",
       "                                     penalty='elasticnet', power_t=0.5,\n",
       "                                     random_state=1234, shuffle=True, tol=0.001,\n",
       "                                     validation_fraction=0.1, verbose=0,\n",
       "                                     warm_start=False),\n",
       "             iid='warn', n_jobs=None,\n",
       "             param_grid=[{'alpha': [0.0001, 0.0001, 1e-05],\n",
       "                          'loss': ['hinge', 'log', 'squared_hinge']}],\n",
       "             pre_dispatch='2*n_jobs', refit=True, return_train_score=False,\n",
       "             scoring=None, verbose=0)"
      ]
     },
     "execution_count": 18,
     "metadata": {},
     "output_type": "execute_result"
    }
   ],
   "source": [
    "sgd = SGDClassifier(n_jobs=-1, penalty='elasticnet', max_iter=1000, random_state=1234 )\n",
    "\n",
    "# hyperparameters for tuning\n",
    "sgd_grid = [{'loss': ['hinge', 'log', 'squared_hinge'],\n",
    "             'alpha': [0.0001, 0.0001, 0.00001]}]\n",
    "\n",
    "# grid search with cross validation\n",
    "sgd_search = GridSearchCV(estimator=sgd, param_grid=sgd_grid, cv=50, refit=True)\n",
    "sgd_search.fit(X_train, y_train)"
   ]
  },
  {
   "cell_type": "code",
   "execution_count": 19,
   "metadata": {},
   "outputs": [],
   "source": [
    "y_pred = sgd_search.predict(X_test)"
   ]
  },
  {
   "cell_type": "markdown",
   "metadata": {},
   "source": [
    "## Performance Metric"
   ]
  },
  {
   "cell_type": "code",
   "execution_count": 20,
   "metadata": {},
   "outputs": [
    {
     "name": "stdout",
     "output_type": "stream",
     "text": [
      "Accuracy of SGD Classifier model: 75.60627674750357\n"
     ]
    }
   ],
   "source": [
    "# Train a new classifier using the best parameters found by the grid search\n",
    "print(\"Accuracy of SGD Classifier model:\", sgd_search.best_estimator_.score(X_test, y_test)*100)"
   ]
  },
  {
   "cell_type": "code",
   "execution_count": 21,
   "metadata": {},
   "outputs": [
    {
     "name": "stdout",
     "output_type": "stream",
     "text": [
      "F1 Score for all the categories:\n"
     ]
    },
    {
     "data": {
      "text/plain": [
       "array([0.35918367, 0.72052762, 0.68833652, 0.84024323, 0.6509009 ])"
      ]
     },
     "execution_count": 21,
     "metadata": {},
     "output_type": "execute_result"
    }
   ],
   "source": [
    "from sklearn.metrics import f1_score\n",
    "print(\"F1 Score for all the categories:\")\n",
    "f1_score(y_test, y_pred, average=None)"
   ]
  },
  {
   "cell_type": "code",
   "execution_count": 39,
   "metadata": {},
   "outputs": [
    {
     "data": {
      "text/plain": [
       "array([[  44,    7,   31,   58,   30],\n",
       "       [   4,  437,   34,  135,   22],\n",
       "       [   8,   43,  360,   96,   42],\n",
       "       [  16,   77,   36, 1520,   58],\n",
       "       [   3,   17,   36,  102,  289]])"
      ]
     },
     "execution_count": 39,
     "metadata": {},
     "output_type": "execute_result"
    }
   ],
   "source": [
    "from sklearn.metrics import confusion_matrix\n",
    "m = confusion_matrix(y_test, y_pred)\n",
    "m"
   ]
  },
  {
   "cell_type": "code",
   "execution_count": 40,
   "metadata": {},
   "outputs": [
    {
     "name": "stdout",
     "output_type": "stream",
     "text": [
      "                    precision    recall  f1-score   support\n",
      "\n",
      " business  finance       0.59      0.26      0.36       170\n",
      "             crime       0.75      0.69      0.72       632\n",
      "     entertainment       0.72      0.66      0.69       549\n",
      "          politics       0.80      0.89      0.84      1707\n",
      "technology  health       0.66      0.65      0.65       447\n",
      "\n",
      "          accuracy                           0.76      3505\n",
      "         macro avg       0.70      0.63      0.65      3505\n",
      "      weighted avg       0.75      0.76      0.75      3505\n",
      "\n"
     ]
    }
   ],
   "source": [
    "from sklearn.metrics import classification_report\n",
    "report = classification_report(y_test,y_pred,output_dict=True)\n",
    "print(classification_report(y_test,y_pred))"
   ]
  },
  {
   "cell_type": "code",
   "execution_count": 41,
   "metadata": {},
   "outputs": [
    {
     "data": {
      "text/html": [
       "<div>\n",
       "<style scoped>\n",
       "    .dataframe tbody tr th:only-of-type {\n",
       "        vertical-align: middle;\n",
       "    }\n",
       "\n",
       "    .dataframe tbody tr th {\n",
       "        vertical-align: top;\n",
       "    }\n",
       "\n",
       "    .dataframe thead th {\n",
       "        text-align: right;\n",
       "    }\n",
       "</style>\n",
       "<table border=\"1\" class=\"dataframe\">\n",
       "  <thead>\n",
       "    <tr style=\"text-align: right;\">\n",
       "      <th></th>\n",
       "      <th>precision</th>\n",
       "      <th>recall</th>\n",
       "      <th>f1-score</th>\n",
       "      <th>support</th>\n",
       "    </tr>\n",
       "  </thead>\n",
       "  <tbody>\n",
       "    <tr>\n",
       "      <td>business  finance</td>\n",
       "      <td>0.586667</td>\n",
       "      <td>0.258824</td>\n",
       "      <td>0.359184</td>\n",
       "      <td>170.000000</td>\n",
       "    </tr>\n",
       "    <tr>\n",
       "      <td>crime</td>\n",
       "      <td>0.752151</td>\n",
       "      <td>0.691456</td>\n",
       "      <td>0.720528</td>\n",
       "      <td>632.000000</td>\n",
       "    </tr>\n",
       "    <tr>\n",
       "      <td>entertainment</td>\n",
       "      <td>0.724346</td>\n",
       "      <td>0.655738</td>\n",
       "      <td>0.688337</td>\n",
       "      <td>549.000000</td>\n",
       "    </tr>\n",
       "    <tr>\n",
       "      <td>politics</td>\n",
       "      <td>0.795395</td>\n",
       "      <td>0.890451</td>\n",
       "      <td>0.840243</td>\n",
       "      <td>1707.000000</td>\n",
       "    </tr>\n",
       "    <tr>\n",
       "      <td>technology  health</td>\n",
       "      <td>0.655329</td>\n",
       "      <td>0.646532</td>\n",
       "      <td>0.650901</td>\n",
       "      <td>447.000000</td>\n",
       "    </tr>\n",
       "    <tr>\n",
       "      <td>accuracy</td>\n",
       "      <td>0.756063</td>\n",
       "      <td>0.756063</td>\n",
       "      <td>0.756063</td>\n",
       "      <td>0.756063</td>\n",
       "    </tr>\n",
       "    <tr>\n",
       "      <td>macro avg</td>\n",
       "      <td>0.702778</td>\n",
       "      <td>0.628600</td>\n",
       "      <td>0.651838</td>\n",
       "      <td>3505.000000</td>\n",
       "    </tr>\n",
       "    <tr>\n",
       "      <td>weighted avg</td>\n",
       "      <td>0.748482</td>\n",
       "      <td>0.756063</td>\n",
       "      <td>0.747384</td>\n",
       "      <td>3505.000000</td>\n",
       "    </tr>\n",
       "  </tbody>\n",
       "</table>\n",
       "</div>"
      ],
      "text/plain": [
       "                    precision    recall  f1-score      support\n",
       "business  finance    0.586667  0.258824  0.359184   170.000000\n",
       "crime                0.752151  0.691456  0.720528   632.000000\n",
       "entertainment        0.724346  0.655738  0.688337   549.000000\n",
       "politics             0.795395  0.890451  0.840243  1707.000000\n",
       "technology  health   0.655329  0.646532  0.650901   447.000000\n",
       "accuracy             0.756063  0.756063  0.756063     0.756063\n",
       "macro avg            0.702778  0.628600  0.651838  3505.000000\n",
       "weighted avg         0.748482  0.756063  0.747384  3505.000000"
      ]
     },
     "execution_count": 41,
     "metadata": {},
     "output_type": "execute_result"
    }
   ],
   "source": [
    "df11 = pd.DataFrame(report).transpose()\n",
    "df11"
   ]
  },
  {
   "cell_type": "code",
   "execution_count": 71,
   "metadata": {},
   "outputs": [
    {
     "data": {
      "text/plain": [
       "<matplotlib.axes._subplots.AxesSubplot at 0x1a2492d590>"
      ]
     },
     "execution_count": 71,
     "metadata": {},
     "output_type": "execute_result"
    },
    {
     "data": {
      "image/png": "[encoded data removed]",
      "text/plain": [
       "<Figure size 576x432 with 1 Axes>"
      ]
     },
     "metadata": {
      "needs_background": "light"
     },
     "output_type": "display_data"
    }
   ],
   "source": [
    "import matplotlib.pyplot as plt\n",
    "import pandas as pd\n",
    "bb= ['precision','recall','f1-score']\n",
    "# a simple line plot\n",
    "df11.iloc[0:5].plot(kind='bar',y= bb,figsize=(8,6),rot=0)"
   ]
  },
  {
   "cell_type": "code",
   "execution_count": 44,
   "metadata": {},
   "outputs": [],
   "source": [
    "import numpy as np\n",
    "\n",
    "\n",
    "def plot_confusion_matrix(cm,\n",
    "                          target_names,\n",
    "                          title='Confusion matrix',\n",
    "                          cmap=None,\n",
    "                          normalize=True):\n",
    "    \n",
    "    import matplotlib.pyplot as plt\n",
    "    import numpy as np\n",
    "    import itertools\n",
    "\n",
    "    accuracy = np.trace(cm) / float(np.sum(cm))\n",
    "    misclass = 1 - accuracy\n",
    "\n",
    "    if cmap is None:\n",
    "        cmap = plt.get_cmap('Reds')\n",
    "\n",
    "    plt.figure(figsize=(8, 6))\n",
    "    plt.imshow(cm, interpolation='nearest', cmap=cmap)\n",
    "    plt.title(title)\n",
    "    plt.colorbar()\n",
    "\n",
    "    if target_names is not None:\n",
    "        tick_marks = np.arange(len(target_names))\n",
    "        plt.xticks(tick_marks, target_names, rotation=45)\n",
    "        plt.yticks(tick_marks, target_names)\n",
    "\n",
    "    if normalize:\n",
    "        cm = cm.astype('float') / cm.sum(axis=1)[:, np.newaxis]\n",
    "\n",
    "\n",
    "    thresh = cm.max() / 1.5 if normalize else cm.max() / 2\n",
    "    for i, j in itertools.product(range(cm.shape[0]), range(cm.shape[1])):\n",
    "        if normalize:\n",
    "            plt.text(j, i, \"{:0.4f}\".format(cm[i, j]),\n",
    "                     horizontalalignment=\"center\",\n",
    "                     color=\"white\" if cm[i, j] > thresh else \"black\")\n",
    "        else:\n",
    "            plt.text(j, i, \"{:,}\".format(cm[i, j]),\n",
    "                     horizontalalignment=\"center\",\n",
    "                     color=\"white\" if cm[i, j] > thresh else \"black\")\n",
    "\n",
    "\n",
    "    plt.xlim(-0.5, len(np.unique(y))-0.5)\n",
    "    plt.ylim(len(np.unique(y))-0.5, -0.5)\n",
    "    plt.tight_layout()\n",
    "  \n",
    "    plt.ylabel('True label')\n",
    "    plt.xlabel('Predicted label\\naccuracy={:0.4f}; misclass={:0.4f}'.format(accuracy, misclass))\n",
    "    plt.show()"
   ]
  },
  {
   "cell_type": "code",
   "execution_count": 45,
   "metadata": {},
   "outputs": [
    {
     "data": {
      "image/png": "[encoded data removed]",
      "text/plain": [
       "<Figure size 576x432 with 2 Axes>"
      ]
     },
     "metadata": {
      "needs_background": "light"
     },
     "output_type": "display_data"
    }
   ],
   "source": [
    "plot_confusion_matrix(cm           = m, \n",
    "                                    normalize    = False,\n",
    "                                    target_names = ['Business & Finance', 'Crime', 'Technology & Health', 'Politics','Entertainment'],\n",
    "                                    title        = \"Confusion Matrix for SGD\")\n",
    "                      \n",
    "                            "
   ]
  },
  {
   "cell_type": "code",
   "execution_count": null,
   "metadata": {},
   "outputs": [],
   "source": []
  }
 ],
 "metadata": {
  "kernelspec": {
   "display_name": "Python 3",
   "language": "python",
   "name": "python3"
  },
  "language_info": {
   "codemirror_mode": {
    "name": "ipython",
    "version": 3
   },
   "file_extension": ".py",
   "mimetype": "text/x-python",
   "name": "python",
   "nbconvert_exporter": "python",
   "pygments_lexer": "ipython3",
   "version": "3.7.4"
  }
 },
 "nbformat": 4,
 "nbformat_minor": 4
}
